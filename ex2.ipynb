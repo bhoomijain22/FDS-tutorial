{
 "cells": [
  {
   "cell_type": "code",
   "execution_count": 1,
   "id": "2ffac4cb-6341-40c1-9f7f-4ea1546d6e96",
   "metadata": {},
   "outputs": [
    {
     "name": "stdout",
     "output_type": "stream",
     "text": [
      "[[1 0 2]\n",
      " [2 1 1]\n",
      " [3 0 3]]\n",
      "[[2 2 0]\n",
      " [1 0 1]\n",
      " [0 1 0]]\n"
     ]
    }
   ],
   "source": [
    "import numpy as np\n",
    "a=np.array([[1,0,2],[2,1,1],[3,0,3]])\n",
    "b=np.array([[2,2,0],[1,0,1],[0,1,0]])\n",
    "print(a)\n",
    "print(b)"
   ]
  },
  {
   "cell_type": "code",
   "execution_count": 3,
   "id": "ffb72d8a-91c1-41a6-9336-d0a3d91e5dfd",
   "metadata": {},
   "outputs": [
    {
     "name": "stdout",
     "output_type": "stream",
     "text": [
      "[[1 0 2]\n",
      " [2 1 1]\n",
      " [3 0 3]]\n",
      "[[2 2 0]\n",
      " [1 0 1]\n",
      " [0 1 0]]\n"
     ]
    },
    {
     "data": {
      "text/plain": [
       "  C_CONTIGUOUS : True\n",
       "  F_CONTIGUOUS : False\n",
       "  OWNDATA : True\n",
       "  WRITEABLE : True\n",
       "  ALIGNED : True\n",
       "  WRITEBACKIFCOPY : False"
      ]
     },
     "execution_count": 3,
     "metadata": {},
     "output_type": "execute_result"
    }
   ],
   "source": [
    "import numpy as np\n",
    "a=np.array([[1,0,2],[2,1,1],[3,0,3]])\n",
    "b=np.array([[2,2,0],[1,0,1],[0,1,0]])\n",
    "print(a)\n",
    "print(b)\n",
    "a.flags"
   ]
  },
  {
   "cell_type": "code",
   "execution_count": 2,
   "id": "3d74f861-7018-4b7b-95f4-88ac1d5927b4",
   "metadata": {},
   "outputs": [
    {
     "data": {
      "text/plain": [
       "(3, 3)"
      ]
     },
     "execution_count": 2,
     "metadata": {},
     "output_type": "execute_result"
    }
   ],
   "source": [
    "import numpy as np\n",
    "a=np.array([[1,0,2],[2,1,1],[3,0,3]])\n",
    "b=np.array([[2,2,0],[1,0,1],])\n",
    "b.shape\n",
    "a.shape"
   ]
  },
  {
   "cell_type": "code",
   "execution_count": 4,
   "id": "e54fb88e-5f35-4dbe-9d2a-a91e131f5392",
   "metadata": {},
   "outputs": [
    {
     "data": {
      "text/plain": [
       "(12, 4)"
      ]
     },
     "execution_count": 4,
     "metadata": {},
     "output_type": "execute_result"
    }
   ],
   "source": [
    "import numpy as np\n",
    "a=np.array([[1,0,2],[2,1,1],[3,0,3]])\n",
    "a.strides"
   ]
  },
  {
   "cell_type": "code",
   "execution_count": 5,
   "id": "66865923-13b6-449c-8c27-6873298e746c",
   "metadata": {},
   "outputs": [
    {
     "data": {
      "text/plain": [
       "2"
      ]
     },
     "execution_count": 5,
     "metadata": {},
     "output_type": "execute_result"
    }
   ],
   "source": [
    "import numpy as np\n",
    "a=np.array([[1,0,2],[2,1,1],[3,0,3]])\n",
    "a.ndim"
   ]
  },
  {
   "cell_type": "code",
   "execution_count": 6,
   "id": "33fad6ff-f3da-402a-9581-d68c78f21b62",
   "metadata": {},
   "outputs": [
    {
     "data": {
      "text/plain": [
       "<memory at 0x00000251877C36B0>"
      ]
     },
     "execution_count": 6,
     "metadata": {},
     "output_type": "execute_result"
    }
   ],
   "source": [
    "import numpy as np\n",
    "a=np.array([[1,0,2],[2,1,1],[3,0,3]])\n",
    "a.data"
   ]
  },
  {
   "cell_type": "code",
   "execution_count": 7,
   "id": "a55939b3-522b-4d92-a9fd-aef2bd31e050",
   "metadata": {},
   "outputs": [
    {
     "data": {
      "text/plain": [
       "9"
      ]
     },
     "execution_count": 7,
     "metadata": {},
     "output_type": "execute_result"
    }
   ],
   "source": [
    "import numpy as np\n",
    "a=np.array([[1,0,2],[2,1,1],[3,0,3]])\n",
    "a.size"
   ]
  },
  {
   "cell_type": "code",
   "execution_count": 8,
   "id": "96682f3a-bdad-4bf8-b42a-3e31fa83ddfa",
   "metadata": {},
   "outputs": [
    {
     "data": {
      "text/plain": [
       "4"
      ]
     },
     "execution_count": 8,
     "metadata": {},
     "output_type": "execute_result"
    }
   ],
   "source": [
    "import numpy as np\n",
    "a=np.array([[1,0,2],[2,1,1],[3,0,3]])\n",
    "a.itemsize"
   ]
  },
  {
   "cell_type": "code",
   "execution_count": 9,
   "id": "04e17fb5-7ffa-476d-b789-82cb22a26d12",
   "metadata": {},
   "outputs": [],
   "source": [
    "import numpy as np\n",
    "a=np.array([[1,0,2],[2,1,1],[3,0,3]])\n",
    "a.base"
   ]
  },
  {
   "cell_type": "code",
   "execution_count": null,
   "id": "e97d8961-24cc-4fdf-b9a2-2c3fba83d1fe",
   "metadata": {},
   "outputs": [],
   "source": [
    "\n",
    "import numpy as np\n",
    "a=np.array([[1,0,2],[2,1,1],[3,0,3]])\n",
    "a.nbytes"
   ]
  },
  {
   "cell_type": "code",
   "execution_count": null,
   "id": "dba12fbc-7915-4a50-b93a-97fd5f78435e",
   "metadata": {},
   "outputs": [],
   "source": []
  }
 ],
 "metadata": {
  "kernelspec": {
   "display_name": "Python 3 (ipykernel)",
   "language": "python",
   "name": "python3"
  },
  "language_info": {
   "codemirror_mode": {
    "name": "ipython",
    "version": 3
   },
   "file_extension": ".py",
   "mimetype": "text/x-python",
   "name": "python",
   "nbconvert_exporter": "python",
   "pygments_lexer": "ipython3",
   "version": "3.12.4"
  }
 },
 "nbformat": 4,
 "nbformat_minor": 5
}
